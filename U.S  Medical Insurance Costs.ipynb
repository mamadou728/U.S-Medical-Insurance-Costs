{
  "cells": [
    {
      "metadata": {},
      "id": "5baa9fa2",
      "cell_type": "markdown",
      "source": "# U.S  Medical Insurance Costs\nFor this project, Code academy provides a dataset make with information from insurance customers in the United States. The different types of information are the age, sex, BMI, the number of children, the smoking status, the region where there are, and the charges. The first question I asked myself is, what is the average cost of insurance. After that, The second question I asked myself is, what is the relation between the intervals of ages and the average cost of insurance. After having solved these questions, I added conclusions that allow to better understand the behavior of charge of the insurance according to the intervals of ages. \nFor this work,  I consider that cost of insurance is well above the average when it exceeds 5%. However, I also consider that the cost of insurance is well below the average when it is 5% low."
    },
    {
      "metadata": {},
      "id": "be5cba7c",
      "cell_type": "markdown",
      "source": "The Steps we will use are the followinging:\n* Read the types of information of the dataset\n* Import libraries\n* Store the data that we need in an array\n* Create a function to calculate the general average of the charges\n* Create a function to calculate the average of charges for each intervals of ages"
    },
    {
      "metadata": {
        "scrolled": true,
        "trusted": true
      },
      "id": "e64d85ca",
      "cell_type": "code",
      "source": "#Open and read the types of information of the dataset\nwith open('C:/Users/Cap Jack Sparrow/Documents/GitHub/python-portfolio-example-solution/insurance.csv',newline='') as File:\n  print(File.readline())",
      "execution_count": 1,
      "outputs": [
        {
          "name": "stdout",
          "output_type": "stream",
          "text": "age,sex,bmi,children,smoker,region,charges\r\n\n"
        }
      ]
    },
    {
      "metadata": {
        "scrolled": true,
        "trusted": true
      },
      "id": "336ea19b",
      "cell_type": "code",
      "source": "# import libraries\nimport csv\nimport numpy as np\n\n\nfile_path='C:/Users/Cap Jack Sparrow/Documents/GitHub/python-portfolio-example-solution/insurance.csv'\nlist_of_variables=[]\n\n# Read dataset and store the data we need in an array.\nwith open(file_path,newline='') as f:\n  reader=csv.DictReader(f,delimiter=',');\n  list_of_variables=[[int(row['age']),float(row['charges']),float(row['charges'])]for row in reader]\n\n\n\n# Method to calculate the general average of charges\ndef average_of_charge():\n    list_of_charges=[i[2] for i in list_of_variables]\n    average_of_charges=sum(list_of_charges)/len(list_of_charges)\n    return np.double(average_of_charges);\n\n#  Method to calculate the average of charges for an interval  \ndef average_of_change_age(age1,age2,name):\n  \n # Verification of higher and lower into input ages\n   low_age=0;\n   high_age=0;\n   if age1>age2:\n    low_age=age2\n    high_age=age1\n   else:\n    high_age=age2\n    low_age=age1\n  \n # Calculate the average\n   interval_charges=[i[1] for i in list_of_variables if i[0]>=low_age and i[0]<=high_age ]\n   average=sum(interval_charges)/len(interval_charges)\n   print( \"\\n{name} people who are in the range of \".format(name=name.title())+str(low_age)+\" and \"+str(high_age)+\" years old represent \"+str(len(interval_charges))+ \" individuals. They pay on average $\"+str(np.double(average).round(2))+ \" per year.\")\n   \n # Conclusion according to the results of average \n   if average < average_of_charge() and average < average_of_charge()*0.95 : \n    print(\"The cost of insurance is much lower than average, this is explained by the fact that very few people in this interval of age  have children, have a high weight or are smokers.\")\n   elif average < average_of_charge() and average > average_of_charge()*0.95 :\n    print(\"The cost of insurance is lightly below average, this is explained by the fact that  few people in this interval of age have children, have a high weight or are smokers.\")\n   elif average > average_of_charge() and average < average_of_charge()*1.05 :\n    print(\"The cost of insurance is lightly above average, this is explained by the fact that a lot people in this interval of age have  children, have a high weight or are smokers.\")\n   elif average > average_of_charge() and average > average_of_charge()*1.05 :\n    print(\"The cost of insurance is well above average, this is explained by the fact that large majority of people in this interval of age have children, have a very high weight weight or are smokers.\")\n   \n\nprint(\"The general average cost of insurance is $\"+str(average_of_charge().round(2))+\".\")   \naverage_of_change_age(59,25,\"adult\")\naverage_of_change_age(60,100,\"old\")\naverage_of_change_age(24,0,\"youths\") ",
      "execution_count": 4,
      "outputs": [
        {
          "name": "stdout",
          "output_type": "stream",
          "text": "The general average cost of insurance is $13270.42.\n\nAdult people who are in the range of 25 and 59 years old represent 946 individuals. They pay on average $13560.67 per year.\nThe cost of insurance is lightly above average, this is explained by the fact that a lot people in this interval of age have  children, have a high weight or are smokers.\n\nOld people who are in the range of 60 and 100 years old represent 114 individuals. They pay on average $21248.02 per year.\nThe cost of insurance is well above average, this is explained by the fact that large majority of people in this interval of age have children, have a very high weight weight or are smokers.\n\nYouths people who are in the range of 0 and 24 years old represent 278 individuals. They pay on average $9011.34 per year.\nThe cost of insurance is much lower than average, this is explained by the fact that very few people in this interval of age  have children, have a high weight or are smokers.\n"
        }
      ]
    },
    {
      "metadata": {
        "trusted": true
      },
      "id": "72d3f328",
      "cell_type": "code",
      "source": "",
      "execution_count": null,
      "outputs": []
    }
  ],
  "metadata": {
    "kernelspec": {
      "name": "python3",
      "display_name": "Python 3",
      "language": "python"
    },
    "language_info": {
      "name": "python",
      "version": "3.8.8",
      "mimetype": "text/x-python",
      "codemirror_mode": {
        "name": "ipython",
        "version": 3
      },
      "pygments_lexer": "ipython3",
      "nbconvert_exporter": "python",
      "file_extension": ".py"
    },
    "gist": {
      "id": "",
      "data": {
        "description": "U.S  Medical Insurance Costs.ipynb",
        "public": true
      }
    }
  },
  "nbformat": 4,
  "nbformat_minor": 5
}